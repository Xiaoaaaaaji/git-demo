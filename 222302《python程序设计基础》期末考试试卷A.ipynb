{
 "cells": [
  {
   "cell_type": "markdown",
   "metadata": {
    "collapsed": true
   },
   "source": [
    " ## 某电商平台客户价值分析"
   ]
  },
  {
   "cell_type": "code",
   "execution_count": null,
   "metadata": {},
   "outputs": [],
   "source": [
    "import os\n",
    "print(os.path.abspath('.'))  #获取jupternotebook的当前工作目录"
   ]
  },
  {
   "cell_type": "markdown",
   "metadata": {},
   "source": [
    "某电商平台的一些相关历史交易数据存放于D:\\data文件夹下，请通过数据中的“买家会员名”、“订单付款日期”、“买家实际支付金额”分析客户价值。"
   ]
  },
  {
   "cell_type": "markdown",
   "metadata": {},
   "source": [
    "### 一、数据抽取\n",
    "分别抽取2018.xlsx和2019.xlsx中的数据列“买家会员名”、“订单付款日期”、“买家实际支付金额”，合并保存到emerge.xlsx文件中，显示数据的\n",
    "前2行数据"
   ]
  },
  {
   "cell_type": "code",
   "execution_count": null,
   "metadata": {},
   "outputs": [],
   "source": [
    "#请在此编写代码实现以上功能\n",
    "import pandas as pd\n",
    "\n",
    "df_2018 = pd.read_excel('D:/data/2018.xlsx')\n",
    "\n",
    "df_2018_extracted = df_2018[['买家会员名', '订单付款日期', '买家实际支付金额']]\n",
    "\n",
    "df_2019 = pd.read_excel('D:/data/2019.xlsx')\n",
    "\n",
    "df_2019_extracted = df_2019[['买家会员名', '订单付款日期', '买家实际支付金额']]\n",
    "\n",
    "merged_data = pd.concat([df_2018_extracted, df_2019_extracted])\n",
    "\n",
    "merged_data.to_excel('D:/data/emerge.xlsx', index=False)\n",
    "\n",
    "print(merged_data.head(2))\n"
   ]
  },
  {
   "cell_type": "markdown",
   "metadata": {},
   "source": [
    "### 二、数据探索分析\n",
    "对emerge.xlsx中的数据做描述性统计，分析数据缺失、数据异常等情况，去除订单付款时间为空的记录，去除买家实际支付金额为0的记录"
   ]
  },
  {
   "cell_type": "code",
   "execution_count": null,
   "metadata": {},
   "outputs": [],
   "source": [
    "#请在此编写代码实现以上功能\n",
    "import pandas as pd\n",
    "\n",
    "df = pd.read_excel('D:/data/emerge.xlsx')\n",
    "\n",
    "statistics = df.describe()\n",
    "print(\"描述性统计结果：\")\n",
    "print(statistics)\n",
    "\n",
    "missing_data = df.isnull().sum()\n",
    "print(\"\\n数据缺失情况：\")\n",
    "print(missing_data)\n",
    "\n",
    "df = df.dropna(subset=['订单付款日期'])\n",
    "\n",
    "df = df[df['买家实际支付金额'] != 0]\n",
    "df.to_excel('D:/data/processed_emerge.xlsx', index=False)\n",
    "\n",
    "print(\"\\n处理后的数据的前两行：\")\n",
    "print(df.head(2))\n"
   ]
  },
  {
   "cell_type": "markdown",
   "metadata": {},
   "source": [
    "### 三、计算RFM值\n",
    "读取emerge.xlsx文件，计算：\n",
    "R：最近消费时间间隔=某时刻的时间-最近一次消费时间（以2019-12-31为界限计算）\n",
    "F:客户累计消费次数\n",
    "M:客户累计消费金额\n",
    "将结果保存到RFM.xlsx中。"
   ]
  },
  {
   "cell_type": "code",
   "execution_count": null,
   "metadata": {},
   "outputs": [],
   "source": [
    "#请在此编写代码实现以上功能\n",
    "\n",
    "import pandas as pd\n",
    "df = pd.read_excel('D:/data/emerge.xlsx')\n",
    "df['订单付款日期'] = pd.to_datetime(df['订单付款日期'])\n",
    "last_purchase_date = pd.to_datetime('2019-12-31')\n",
    "df['R'] = (last_purchase_date - df['订单付款日期']).dt.days\n",
    "frequencies = df.groupby('买家会员名').size().reset_index(name='F')\n",
    "df = df.merge(frequencies, on='买家会员名')\n",
    "monetary = df.groupby('买家会员名')['买家实际支付金额'].sum().reset_index(name='M')\n",
    "df = df.merge(monetary, on='买家会员名')\n",
    "df.to_excel('D:/data/RFM.xlsx', index=False)\n",
    "print(df.head(2))\n"
   ]
  },
  {
   "cell_type": "markdown",
   "metadata": {},
   "source": [
    "### 四、对数据做标准化处理\n",
    "从RFM.xlsx中读取数据，表头重新命名为：R、F、M，显示前2行数据\n",
    "并将结果保存到std.xlsx文件中去"
   ]
  },
  {
   "cell_type": "code",
   "execution_count": null,
   "metadata": {},
   "outputs": [],
   "source": [
    "#请在此编写代码实现以上功能\n",
    "import pandas as pd\n",
    "df = pd.read_excel('D:/data/RFM.xlsx')\n",
    "df = df.rename(columns={'R（最近消费时间间隔）': 'R', 'F（客户累计消费次数）': 'F', 'M（客户累计消费金额）': 'M'})\n",
    "print(df.head(2))\n",
    "df.to_excel('D:/data/std.xlsx', index=False)\n"
   ]
  },
  {
   "cell_type": "markdown",
   "metadata": {},
   "source": [
    "### 五、客户聚类分析\n",
    "使用KMeans算法实现客户聚类分析，聚类结果通过密度图显示"
   ]
  },
  {
   "cell_type": "code",
   "execution_count": null,
   "metadata": {},
   "outputs": [],
   "source": [
    "#请在此编写代码实现以上功能\n",
    "import pandas as pd\n",
    "import seaborn as sns\n",
    "from sklearn.cluster import KMeans\n",
    "import matplotlib.pyplot as plt\n",
    "\n",
    "df = pd.read_excel('D:/data/std.xlsx')\n",
    "\n",
    "X = df[['R', 'F', 'M']]\n",
    "\n",
    "kmeans = KMeans(n_clusters=5, random_state=42)\n",
    "kmeans.fit(X)\n",
    "\n",
    "labels = kmeans.labels_\n",
    "\n",
    "df['Cluster'] = labels\n",
    "\n",
    "plt.figure(figsize=(10, 6))\n",
    "sns.kdeplot(data=df, x='F', y='M', hue='Cluster', fill=True)\n",
    "plt.xlabel('F')\n",
    "plt.ylabel('M')\n",
    "plt.title('Customer Clustering')\n",
    "plt.show()\n"
   ]
  },
  {
   "cell_type": "markdown",
   "metadata": {},
   "source": [
    "### 六、客户价值分析\n",
    "请根据RFM数据对客户进行分类，分析每类用户的特点，并给出相应的营销策略"
   ]
  },
  {
   "cell_type": "code",
   "execution_count": null,
   "metadata": {},
   "outputs": [],
   "source": [
    "#请在此编写代码实现以上功能\n",
    "import pandas as pd\n",
    "\n",
    "df = pd.read_excel('D:/data/RFM.xlsx')\n",
    "\n",
    "R_thresholds = [0, 30, 60, 90, 120]\n",
    "F_thresholds = [1, 2, 3, 4, 5]\n",
    "M_thresholds = [0, 1000, 3000, 5000, 10000]\n",
    "\n",
    "df['R_segment'] = pd.cut(df['R'], bins=R_thresholds, labels=['R1', 'R2', 'R3', 'R4'])\n",
    "df['F_segment'] = pd.cut(df['F'], bins=F_thresholds, labels=['F1', 'F2', 'F3', 'F4'])\n",
    "df['M_segment'] = pd.cut(df['M'], bins=M_thresholds, labels=['M1', 'M2', 'M3', 'M4'])\n",
    "\n",
    "\n",
    "segments = {\n",
    "    'R1F1M1': {'Description': '高价值新客', 'Strategy': '提供个性化欢迎奖励、推荐热门产品'},\n",
    "    'R4F4M4': {'Description': '低价值老客', 'Strategy': '激励回购、提供促销优惠、增加忠诚度奖励'},\n",
    "    'R1F4M4': {'Description': '低活跃高付费客户', 'Strategy': '提供个性化推荐、增加忠诚度奖励'},\n",
    "    'R4F1M1': {'Description': '高活跃低付费客户', 'Strategy': '激励提高购买频率、推荐相关产品'},\n",
    "}\n",
    "\n",
    "df['Segment'] = df['R_segment'] + df['F_segment'] + df['M_segment']\n",
    "df['Description'] = df['Segment'].map(lambda x: segments[x]['Description'])\n",
    "df['Strategy'] = df['Segment'].map(lambda x: segments[x]['Strategy'])\n",
    "\n",
    "segments_info = df[['Segment', 'Description', 'Strategy']].drop_duplicates()\n",
    "print(\"每类用户的特点和营销策略：\")\n",
    "print(segments_info)\n"
   ]
  }
 ],
 "metadata": {
  "kernelspec": {
   "display_name": "Python 3.10.4 64-bit",
   "language": "python",
   "name": "python3"
  },
  "language_info": {
   "codemirror_mode": {
    "name": "ipython",
    "version": 3
   },
   "file_extension": ".py",
   "mimetype": "text/x-python",
   "name": "python",
   "nbconvert_exporter": "python",
   "pygments_lexer": "ipython3",
   "version": "3.10.4"
  },
  "vscode": {
   "interpreter": {
    "hash": "9bbb833c09b7adbcaf121fd85db552c864de2ee1df07048d39deb16a60b09c27"
   }
  }
 },
 "nbformat": 4,
 "nbformat_minor": 4
}
